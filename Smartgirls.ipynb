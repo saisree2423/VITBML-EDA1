{
  "nbformat": 4,
  "nbformat_minor": 0,
  "metadata": {
    "colab": {
      "name": "Smartgirls",
      "provenance": [],
      "authorship_tag": "ABX9TyOaOxARK94mLEFhubdqNBHU",
      "include_colab_link": true
    },
    "kernelspec": {
      "name": "python3",
      "display_name": "Python 3"
    }
  },
  "cells": [
    {
      "cell_type": "markdown",
      "metadata": {
        "id": "view-in-github",
        "colab_type": "text"
      },
      "source": [
        "<a href=\"https://colab.research.google.com/github/saisree2423/VITBML-EDA1/blob/master/Smartgirls.ipynb\" target=\"_parent\"><img src=\"https://colab.research.google.com/assets/colab-badge.svg\" alt=\"Open In Colab\"/></a>"
      ]
    },
    {
      "cell_type": "code",
      "metadata": {
        "id": "WdAjrlL24Flu",
        "colab_type": "code",
        "colab": {
          "base_uri": "https://localhost:8080/",
          "height": 255
        },
        "outputId": "64211607-2d4d-4d0e-c350-646dc24c2138"
      },
      "source": [
        "import numpy as np \n",
        "import pandas as pd\n",
        "import seaborn as sns\n",
        "from matplotlib import pyplot as plt\n",
        "df=pd.read_csv(\"/content/state-liquor-authority-sla-brand-label-and-wholesaler-information-for-alcoholic-beverage-products-registered-in-new-york-state.csv\")\n",
        "print(df)"
      ],
      "execution_count": 23,
      "outputs": [
        {
          "output_type": "stream",
          "text": [
            "       Brand Label Serial Number  ... Brand Label Expiration Date\n",
            "0                        5164064  ...     2019-09-30T00:00:00.000\n",
            "1                        5164065  ...     2019-09-30T00:00:00.000\n",
            "2                        5164066  ...     2019-09-30T00:00:00.000\n",
            "3                        5158927  ...     2019-09-30T00:00:00.000\n",
            "4                        5159358  ...     2019-09-30T00:00:00.000\n",
            "...                          ...  ...                         ...\n",
            "39069                    5119770  ...     2021-06-30T00:00:00.000\n",
            "39070                    5161025  ...     2021-06-30T00:00:00.000\n",
            "39071                    5131301  ...     2021-06-30T00:00:00.000\n",
            "39072                    5105154  ...     2021-06-30T00:00:00.000\n",
            "39073                    5170643  ...     2021-06-30T00:00:00.000\n",
            "\n",
            "[39074 rows x 10 columns]\n"
          ],
          "name": "stdout"
        }
      ]
    },
    {
      "cell_type": "code",
      "metadata": {
        "id": "NbxuQkbd4zRp",
        "colab_type": "code",
        "colab": {
          "base_uri": "https://localhost:8080/",
          "height": 34
        },
        "outputId": "9585c1f9-8569-420a-aa80-17163ed6c026"
      },
      "source": [
        "df.shape"
      ],
      "execution_count": 19,
      "outputs": [
        {
          "output_type": "execute_result",
          "data": {
            "text/plain": [
              "(39074, 10)"
            ]
          },
          "metadata": {
            "tags": []
          },
          "execution_count": 19
        }
      ]
    },
    {
      "cell_type": "code",
      "metadata": {
        "id": "A-aBax_mG27h",
        "colab_type": "code",
        "colab": {
          "base_uri": "https://localhost:8080/",
          "height": 204
        },
        "outputId": "5b15c8d8-7f3f-40cb-8f9a-c004239ebc40"
      },
      "source": [
        "print(df.loc[0])\n"
      ],
      "execution_count": 10,
      "outputs": [
        {
          "output_type": "stream",
          "text": [
            "Brand Label Serial Number                           5164064\n",
            "Brand Label Name                       100 ANOS ANEJO 80 PF\n",
            "License Type Code                                       652\n",
            "License Class Code                                        2\n",
            "License Class Description                           WHISKEY\n",
            "Product Description                                 TEQUILA\n",
            "Wholesaler License Serial Number                    1311212\n",
            "Wholesaler Name                          JIM BEAM BRANDS CO\n",
            "Domestic (D) or Imported (I)                              I\n",
            "Brand Label Expiration Date         2019-09-30T00:00:00.000\n",
            "Name: 0, dtype: object\n"
          ],
          "name": "stdout"
        }
      ]
    },
    {
      "cell_type": "code",
      "metadata": {
        "id": "gPCtp-4WG34t",
        "colab_type": "code",
        "colab": {
          "base_uri": "https://localhost:8080/",
          "height": 204
        },
        "outputId": "8c3d82a9-cc52-496e-8a79-64d73da259be"
      },
      "source": [
        "df.dtypes"
      ],
      "execution_count": 11,
      "outputs": [
        {
          "output_type": "execute_result",
          "data": {
            "text/plain": [
              "Brand Label Serial Number            int64\n",
              "Brand Label Name                    object\n",
              "License Type Code                    int64\n",
              "License Class Code                  object\n",
              "License Class Description           object\n",
              "Product Description                 object\n",
              "Wholesaler License Serial Number     int64\n",
              "Wholesaler Name                     object\n",
              "Domestic (D) or Imported (I)        object\n",
              "Brand Label Expiration Date         object\n",
              "dtype: object"
            ]
          },
          "metadata": {
            "tags": []
          },
          "execution_count": 11
        }
      ]
    },
    {
      "cell_type": "code",
      "metadata": {
        "id": "Kc1I9DDsITmP",
        "colab_type": "code",
        "colab": {
          "base_uri": "https://localhost:8080/",
          "height": 297
        },
        "outputId": "06e3c302-93c3-4f4c-e859-abe0adc5ddfe"
      },
      "source": [
        "df.describe()"
      ],
      "execution_count": 12,
      "outputs": [
        {
          "output_type": "execute_result",
          "data": {
            "text/html": [
              "<div>\n",
              "<style scoped>\n",
              "    .dataframe tbody tr th:only-of-type {\n",
              "        vertical-align: middle;\n",
              "    }\n",
              "\n",
              "    .dataframe tbody tr th {\n",
              "        vertical-align: top;\n",
              "    }\n",
              "\n",
              "    .dataframe thead th {\n",
              "        text-align: right;\n",
              "    }\n",
              "</style>\n",
              "<table border=\"1\" class=\"dataframe\">\n",
              "  <thead>\n",
              "    <tr style=\"text-align: right;\">\n",
              "      <th></th>\n",
              "      <th>Brand Label Serial Number</th>\n",
              "      <th>License Type Code</th>\n",
              "      <th>Wholesaler License Serial Number</th>\n",
              "    </tr>\n",
              "  </thead>\n",
              "  <tbody>\n",
              "    <tr>\n",
              "      <th>count</th>\n",
              "      <td>3.907400e+04</td>\n",
              "      <td>39074.000000</td>\n",
              "      <td>3.907400e+04</td>\n",
              "    </tr>\n",
              "    <tr>\n",
              "      <th>mean</th>\n",
              "      <td>5.147351e+06</td>\n",
              "      <td>650.775042</td>\n",
              "      <td>1.748546e+06</td>\n",
              "    </tr>\n",
              "    <tr>\n",
              "      <th>std</th>\n",
              "      <td>2.009981e+04</td>\n",
              "      <td>1.122322</td>\n",
              "      <td>6.835400e+05</td>\n",
              "    </tr>\n",
              "    <tr>\n",
              "      <th>min</th>\n",
              "      <td>5.000010e+06</td>\n",
              "      <td>650.000000</td>\n",
              "      <td>1.003371e+06</td>\n",
              "    </tr>\n",
              "    <tr>\n",
              "      <th>25%</th>\n",
              "      <td>5.136946e+06</td>\n",
              "      <td>650.000000</td>\n",
              "      <td>1.261835e+06</td>\n",
              "    </tr>\n",
              "    <tr>\n",
              "      <th>50%</th>\n",
              "      <td>5.151180e+06</td>\n",
              "      <td>650.000000</td>\n",
              "      <td>1.306755e+06</td>\n",
              "    </tr>\n",
              "    <tr>\n",
              "      <th>75%</th>\n",
              "      <td>5.161823e+06</td>\n",
              "      <td>652.000000</td>\n",
              "      <td>2.189534e+06</td>\n",
              "    </tr>\n",
              "    <tr>\n",
              "      <th>max</th>\n",
              "      <td>5.172146e+06</td>\n",
              "      <td>654.000000</td>\n",
              "      <td>9.006902e+06</td>\n",
              "    </tr>\n",
              "  </tbody>\n",
              "</table>\n",
              "</div>"
            ],
            "text/plain": [
              "       Brand Label Serial Number  ...  Wholesaler License Serial Number\n",
              "count               3.907400e+04  ...                      3.907400e+04\n",
              "mean                5.147351e+06  ...                      1.748546e+06\n",
              "std                 2.009981e+04  ...                      6.835400e+05\n",
              "min                 5.000010e+06  ...                      1.003371e+06\n",
              "25%                 5.136946e+06  ...                      1.261835e+06\n",
              "50%                 5.151180e+06  ...                      1.306755e+06\n",
              "75%                 5.161823e+06  ...                      2.189534e+06\n",
              "max                 5.172146e+06  ...                      9.006902e+06\n",
              "\n",
              "[8 rows x 3 columns]"
            ]
          },
          "metadata": {
            "tags": []
          },
          "execution_count": 12
        }
      ]
    },
    {
      "cell_type": "code",
      "metadata": {
        "id": "BH7mLDAhIZ0X",
        "colab_type": "code",
        "colab": {
          "base_uri": "https://localhost:8080/",
          "height": 255
        },
        "outputId": "bfc66231-8d96-412f-9009-3c23ca5c1c7d"
      },
      "source": [
        "df.info"
      ],
      "execution_count": 13,
      "outputs": [
        {
          "output_type": "execute_result",
          "data": {
            "text/plain": [
              "<bound method DataFrame.info of        Brand Label Serial Number  ... Brand Label Expiration Date\n",
              "0                        5164064  ...     2019-09-30T00:00:00.000\n",
              "1                        5164065  ...     2019-09-30T00:00:00.000\n",
              "2                        5164066  ...     2019-09-30T00:00:00.000\n",
              "3                        5158927  ...     2019-09-30T00:00:00.000\n",
              "4                        5159358  ...     2019-09-30T00:00:00.000\n",
              "...                          ...  ...                         ...\n",
              "39069                    5119770  ...     2021-06-30T00:00:00.000\n",
              "39070                    5161025  ...     2021-06-30T00:00:00.000\n",
              "39071                    5131301  ...     2021-06-30T00:00:00.000\n",
              "39072                    5105154  ...     2021-06-30T00:00:00.000\n",
              "39073                    5170643  ...     2021-06-30T00:00:00.000\n",
              "\n",
              "[39074 rows x 10 columns]>"
            ]
          },
          "metadata": {
            "tags": []
          },
          "execution_count": 13
        }
      ]
    },
    {
      "cell_type": "code",
      "metadata": {
        "id": "0-xdPqxeIdgo",
        "colab_type": "code",
        "colab": {
          "base_uri": "https://localhost:8080/",
          "height": 204
        },
        "outputId": "05eba6f5-05cf-4e96-8b67-ec1adc4af0f8"
      },
      "source": [
        "df.isna().sum()"
      ],
      "execution_count": 14,
      "outputs": [
        {
          "output_type": "execute_result",
          "data": {
            "text/plain": [
              "Brand Label Serial Number           0\n",
              "Brand Label Name                    0\n",
              "License Type Code                   0\n",
              "License Class Code                  0\n",
              "License Class Description           0\n",
              "Product Description                 0\n",
              "Wholesaler License Serial Number    0\n",
              "Wholesaler Name                     0\n",
              "Domestic (D) or Imported (I)        0\n",
              "Brand Label Expiration Date         0\n",
              "dtype: int64"
            ]
          },
          "metadata": {
            "tags": []
          },
          "execution_count": 14
        }
      ]
    },
    {
      "cell_type": "code",
      "metadata": {
        "id": "k57rT1sWI2DG",
        "colab_type": "code",
        "colab": {
          "base_uri": "https://localhost:8080/",
          "height": 350
        },
        "outputId": "1ff892c8-144a-4b15-b8cf-a48dd925b68f"
      },
      "source": [
        "plt.hist(df['Brand Label Serial Number'])"
      ],
      "execution_count": 25,
      "outputs": [
        {
          "output_type": "execute_result",
          "data": {
            "text/plain": [
              "(array([  223.,     0.,     0.,     0.,     0.,   173.,  3061.,  6779.,\n",
              "        12525., 16313.]),\n",
              " array([5000010. , 5017223.6, 5034437.2, 5051650.8, 5068864.4, 5086078. ,\n",
              "        5103291.6, 5120505.2, 5137718.8, 5154932.4, 5172146. ]),\n",
              " <a list of 10 Patch objects>)"
            ]
          },
          "metadata": {
            "tags": []
          },
          "execution_count": 25
        },
        {
          "output_type": "display_data",
          "data": {
            "image/png": "[encoded data removed]",
            "text/plain": [
              "<Figure size 432x288 with 1 Axes>"
            ]
          },
          "metadata": {
            "tags": []
          }
        }
      ]
    },
    {
      "cell_type": "code",
      "metadata": {
        "id": "XrvpDQUHMdCI",
        "colab_type": "code",
        "colab": {
          "base_uri": "https://localhost:8080/",
          "height": 282
        },
        "outputId": "081ff54e-4f8d-4e0b-c35d-ce714263c0aa"
      },
      "source": [
        "plt.bar(df['License Class Code'],df['License Class Description'])"
      ],
      "execution_count": 28,
      "outputs": [
        {
          "output_type": "execute_result",
          "data": {
            "text/plain": [
              "<BarContainer object of 39074 artists>"
            ]
          },
          "metadata": {
            "tags": []
          },
          "execution_count": 28
        },
        {
          "output_type": "display_data",
          "data": {
            "image/png": "[encoded data removed]",
            "text/plain": [
              "<Figure size 432x288 with 1 Axes>"
            ]
          },
          "metadata": {
            "tags": []
          }
        }
      ]
    },
    {
      "cell_type": "code",
      "metadata": {
        "id": "sVOZ7D2VOs95",
        "colab_type": "code",
        "colab": {
          "base_uri": "https://localhost:8080/",
          "height": 289
        },
        "outputId": "648464fd-9e0c-4109-ffbb-37b4d3f9ac12"
      },
      "source": [
        "u=df.loc[ :,['Brand Label Serial Number']]\n",
        "print(u)\n",
        "u.mean()"
      ],
      "execution_count": 31,
      "outputs": [
        {
          "output_type": "stream",
          "text": [
            "       Brand Label Serial Number\n",
            "0                        5164064\n",
            "1                        5164065\n",
            "2                        5164066\n",
            "3                        5158927\n",
            "4                        5159358\n",
            "...                          ...\n",
            "39069                    5119770\n",
            "39070                    5161025\n",
            "39071                    5131301\n",
            "39072                    5105154\n",
            "39073                    5170643\n",
            "\n",
            "[39074 rows x 1 columns]\n"
          ],
          "name": "stdout"
        },
        {
          "output_type": "execute_result",
          "data": {
            "text/plain": [
              "Brand Label Serial Number    5.147351e+06\n",
              "dtype: float64"
            ]
          },
          "metadata": {
            "tags": []
          },
          "execution_count": 31
        }
      ]
    },
    {
      "cell_type": "code",
      "metadata": {
        "id": "-UbDPLqnPohB",
        "colab_type": "code",
        "colab": {
          "base_uri": "https://localhost:8080/",
          "height": 255
        },
        "outputId": "7ccbf07f-649b-40a9-b335-d586c107732c"
      },
      "source": [
        "\n",
        "print(u.mode)"
      ],
      "execution_count": 34,
      "outputs": [
        {
          "output_type": "stream",
          "text": [
            "<bound method DataFrame.mode of        Brand Label Serial Number\n",
            "0                        5164064\n",
            "1                        5164065\n",
            "2                        5164066\n",
            "3                        5158927\n",
            "4                        5159358\n",
            "...                          ...\n",
            "39069                    5119770\n",
            "39070                    5161025\n",
            "39071                    5131301\n",
            "39072                    5105154\n",
            "39073                    5170643\n",
            "\n",
            "[39074 rows x 1 columns]>\n"
          ],
          "name": "stdout"
        }
      ]
    },
    {
      "cell_type": "code",
      "metadata": {
        "id": "BrQn_nT6SZvg",
        "colab_type": "code",
        "colab": {}
      },
      "source": [
        ""
      ],
      "execution_count": 0,
      "outputs": []
    }
  ]
}